{
 "cells": [
  {
   "cell_type": "markdown",
   "id": "6ae60397",
   "metadata": {},
   "source": [
    "# NumPy (Numerical Python)"
   ]
  },
  {
   "cell_type": "markdown",
   "id": "6d3aac0a",
   "metadata": {},
   "source": [
    "#### Introducción:\n",
    "NumPy es la biblioteca fundamental para la computación científica en Python. Proporciona objetos de matriz multidimensional y herramientas para trabajar con estas matrices."
   ]
  },
  {
   "cell_type": "markdown",
   "id": "db7d62d8",
   "metadata": {},
   "source": [
    "## Arrays:\n",
    "Son estructuras de datos similares a las listas en Python, pero pueden tener cualquier número de dimensiones. Además, los arrays son homogéneos, lo que significa que todos los elementos son del mismo tipo."
   ]
  },
  {
   "cell_type": "code",
   "execution_count": 2,
   "id": "e175c351",
   "metadata": {},
   "outputs": [
    {
     "name": "stdout",
     "output_type": "stream",
     "text": [
      "[1 2 3 4 5]\n"
     ]
    }
   ],
   "source": [
    "# Ejemplo de un array\n",
    "\n",
    "import numpy as np\n",
    "arr = np.array([1, 2, 3, 4, 5])\n",
    "print (arr)"
   ]
  },
  {
   "cell_type": "markdown",
   "id": "02242206",
   "metadata": {},
   "source": [
    "## Ejercicios Arrays:"
   ]
  },
  {
   "cell_type": "markdown",
   "id": "42854a84",
   "metadata": {},
   "source": [
    "### 1. Creación de Arrays"
   ]
  },
  {
   "cell_type": "code",
   "execution_count": 6,
   "id": "10e28983",
   "metadata": {},
   "outputs": [
    {
     "name": "stdout",
     "output_type": "stream",
     "text": [
      "[0 1 2 3 4 5 6 7 8 9]\n"
     ]
    },
    {
     "data": {
      "text/plain": [
       "'np. arange(inicio, fin, salto) : \\nCrea y devuelve una referencia a un array de una dimensión cuyos elementos son la secuencia desde \\ninicio hasta fin tomando valores cada salto'"
      ]
     },
     "execution_count": 6,
     "metadata": {},
     "output_type": "execute_result"
    }
   ],
   "source": [
    "# Crea un array de una dimensión con los números del 0 al 9.\n",
    "\n",
    "import numpy as np\n",
    "arr = np.arange(0, 10, 1)\n",
    "print(arr)\n",
    "\n",
    "\"\"\"np. arange(inicio, fin, salto) : \n",
    "Crea y devuelve una referencia a un array de una dimensión cuyos elementos son la secuencia desde \n",
    "inicio hasta fin tomando valores cada salto\"\"\" "
   ]
  },
  {
   "cell_type": "markdown",
   "id": "bd519847",
   "metadata": {},
   "source": [
    "### 2. Cambio de Forma"
   ]
  },
  {
   "cell_type": "code",
   "execution_count": 9,
   "id": "4755486b",
   "metadata": {},
   "outputs": [
    {
     "name": "stdout",
     "output_type": "stream",
     "text": [
      "[[0 1 2 3 4]\n",
      " [5 6 7 8 9]]\n"
     ]
    },
    {
     "data": {
      "text/plain": [
       "'reshape permite cambiar la forma de una matriz sin cambiar los datos. \\nSólo ten presente que cuando usamos esta función, la matriz que queremos producir debe tener\\nla misma cantidad de elementos que la matriz original.'"
      ]
     },
     "execution_count": 9,
     "metadata": {},
     "output_type": "execute_result"
    }
   ],
   "source": [
    "# Cambia la forma del array anterior para que sea un array bidimensional de 2x5.\n",
    "\n",
    "arr_reshaped = arr.reshape(2, 5)\n",
    "print(arr_reshaped)\n",
    "\n",
    "\"\"\"reshape permite cambiar la forma de una matriz sin cambiar los datos. \n",
    "Sólo ten presente que cuando usamos esta función, la matriz que queremos producir debe tener\n",
    "la misma cantidad de elementos que la matriz original.\"\"\""
   ]
  },
  {
   "cell_type": "markdown",
   "id": "c58badc5",
   "metadata": {},
   "source": [
    "### 3. Operaciones Básicas"
   ]
  },
  {
   "cell_type": "code",
   "execution_count": 27,
   "id": "2ee6d56d",
   "metadata": {},
   "outputs": [
    {
     "name": "stdout",
     "output_type": "stream",
     "text": [
      "El array uno es:  [10 11 12 13]\n",
      "El array dos es:  [25 26 27 28]\n",
      " \n",
      "La suma es:  [35 37 39 41]\n",
      " \n",
      "La resta es:  [-15 -15 -15 -15]\n",
      " \n",
      "La multiplicacion es:  [250 286 324 364]\n",
      " \n",
      "La division es:  [0.4        0.42307692 0.44444444 0.46428571]\n"
     ]
    }
   ],
   "source": [
    "# Crea dos arrays de tamaño 4 y realiza la suma, resta, multiplicación y división elemento a elemento\n",
    "\n",
    "arr1 = np.arange(10, 14, 1)\n",
    "arr2 = np.arange(25, 29, 1)\n",
    "print(\"El array uno es: \", arr1)\n",
    "print(\"El array dos es: \", arr2)\n",
    "\n",
    "print(\" \")\n",
    "\n",
    "#SUMA\n",
    "suma = arr1 + arr2\n",
    "print(\"La suma es: \", suma)\n",
    "\n",
    "print(\" \")\n",
    "\n",
    "#RESTA \n",
    "resta = arr1 - arr2\n",
    "print(\"La resta es: \", resta)\n",
    "\n",
    "print(\" \")\n",
    "\n",
    "#Multiplicacion\n",
    "multi = arr1 * arr2\n",
    "print(\"La multiplicacion es: \", multi)\n",
    "\n",
    "print(\" \")\n",
    "\n",
    "#Division\n",
    "div = arr1 / arr2\n",
    "print (\"La division es: \", div)"
   ]
  },
  {
   "cell_type": "markdown",
   "id": "88ac9aaf",
   "metadata": {},
   "source": [
    "### 4. Indexación y Segmentación"
   ]
  },
  {
   "cell_type": "code",
   "execution_count": 37,
   "id": "bdf8c8de",
   "metadata": {},
   "outputs": [
    {
     "name": "stdout",
     "output_type": "stream",
     "text": [
      "[10 11 12 13 14 15 16 17 18 19 20]\n",
      "[13 14 15 16 17]\n"
     ]
    }
   ],
   "source": [
    "# Dado el siguiente array, extrae los elementos del índice 3 al 7.\n",
    "\n",
    "arr = np.arange(10, 21)\n",
    "print(arr)\n",
    "\n",
    "aux = arr[3:8]\n",
    "print(aux)\n",
    "\n",
    "# Para utilizar los dos puntos se debe definir desde que posicion se quiere iniciar hasta la ultima posicion que se desea + 1\n",
    "# Por ese motivo coloque 8 ya que el ejercicio me pedia hasta la posicion 7, pero numpy le resta una posicion"
   ]
  },
  {
   "cell_type": "markdown",
   "id": "15e18ec0",
   "metadata": {},
   "source": [
    "### 5. Arrays con Condiciones"
   ]
  },
  {
   "cell_type": "code",
   "execution_count": 43,
   "id": "c1db86d4",
   "metadata": {},
   "outputs": [
    {
     "name": "stdout",
     "output_type": "stream",
     "text": [
      "[0 1 2 3 4 5 6 7 8 9]\n",
      "[ 0 -1  2 -1  4 -1  6 -1  8 -1]\n"
     ]
    }
   ],
   "source": [
    "# Dado un array, reemplace todos los valores impares por -1 sin cambiar el array original.\n",
    "\n",
    "arr = np.arange(0, 10, 1)\n",
    "\n",
    "new_arr = np.where(arr % 2 == 1, -1, arr)\n",
    "\n",
    "print(arr)\n",
    "print(new_arr)\n",
    "\n",
    "#Lo que hace el \"arr % 2 == 1\" es verificar si el numero es impar, verifica si tiene algun resto la division y si es asi\n",
    "# lo cambia por -1"
   ]
  },
  {
   "cell_type": "markdown",
   "id": "3f52cc3c",
   "metadata": {},
   "source": [
    "### 6. Stack de Arrays"
   ]
  },
  {
   "cell_type": "code",
   "execution_count": 48,
   "id": "2979ed38",
   "metadata": {},
   "outputs": [
    {
     "name": "stdout",
     "output_type": "stream",
     "text": [
      "[0 1 2 3 4 5 6 7 8 9]\n",
      "[21 22 23 24 25 26 27 28 29 30]\n",
      " \n",
      "[[ 0  1  2  3  4  5  6  7  8  9]\n",
      " [21 22 23 24 25 26 27 28 29 30]]\n"
     ]
    }
   ],
   "source": [
    "# Dados dos arrays, concatena o apila verticalmente.\n",
    "\n",
    "arr1 = np.arange(0, 10, 1)\n",
    "arr2 = np.arange(21, 31, 1)\n",
    "\n",
    "print(arr1)\n",
    "print(arr2)\n",
    "print(\" \")\n",
    "conca = np.vstack((arr1, arr2))\n",
    "print (conca)\n",
    "\n",
    "# np.vstack se utiliza para apilar la secuencia de arrays de entrada verticalmente para formar un unico array"
   ]
  },
  {
   "cell_type": "markdown",
   "id": "96570820",
   "metadata": {},
   "source": [
    "### 7. Operaciones con Funciones Universales"
   ]
  },
  {
   "cell_type": "code",
   "execution_count": 52,
   "id": "ed46170b",
   "metadata": {},
   "outputs": [
    {
     "name": "stdout",
     "output_type": "stream",
     "text": [
      "[4.47213595 4.89897949 3.87298335 3.46410162 3.16227766]\n"
     ]
    }
   ],
   "source": [
    "# Dado un array, calcula la raíz cuadrada de cada uno de sus elementos.\n",
    "\n",
    "arr = np.array([20, 24, 15, 12, 10])\n",
    "result = np.sqrt(arr)\n",
    "print(result)\n",
    "\n",
    "# Con sqrt se puede calcular la raiz cuadrada de los elementos dentro de un array"
   ]
  },
  {
   "cell_type": "markdown",
   "id": "e9971328",
   "metadata": {},
   "source": [
    "### 8. Operaciones Estadísticas"
   ]
  },
  {
   "cell_type": "code",
   "execution_count": 56,
   "id": "1a133faf",
   "metadata": {},
   "outputs": [
    {
     "name": "stdout",
     "output_type": "stream",
     "text": [
      "[-1.18488967 -1.18795398 -1.15375372 -0.08753848 -1.75611149  0.27033501\n",
      " -0.87400303 -0.44009027  0.89653493 -0.25423943 -0.27811693 -0.3366457\n",
      "  1.03527285  2.6805234   0.45070931 -0.82306159  0.34496503  0.67202304\n",
      "  1.51573944 -1.34657911  0.98123192 -0.92935727  0.16302348 -0.51241951\n",
      "  0.89614225 -0.58784043 -0.643016    1.65329601 -0.77453507 -0.31529005\n",
      "  0.41008564 -0.66461617  0.18721728 -1.56684776 -0.16354498 -0.76050457\n",
      " -0.16921326  0.44101363  0.1940124   0.98961947  0.70796978  0.26678317\n",
      " -0.73880885 -0.08881153  0.18093101 -0.88024011  0.87942584  1.44476922\n",
      "  0.10466462 -2.34336332  0.16703328  0.23983954 -1.46383536 -0.39113083\n",
      "  1.88748907 -1.68203102 -0.24465309 -0.13699303 -1.02820563  0.13266383\n",
      " -0.54990068 -1.27983304  1.66790854 -0.02840411  0.69496736  0.31607945\n",
      " -0.22934742  0.82072263  1.09948261 -0.16400151 -0.2419461  -0.78931038\n",
      " -2.00945912 -0.90978159  1.13790489 -0.16043324  1.80877499 -0.28144458\n",
      " -0.90007378 -0.60458525  0.84853672 -1.21269386  1.08835439 -1.12004017\n",
      " -0.87618922  0.72683265  0.37171346  1.08523399  0.14006009 -0.50869883\n",
      "  0.49625401  0.37724126  1.22189486 -0.11873473  1.08250533 -0.16840894\n",
      " -2.30934284  0.25999486  1.53634368 -0.44142382]\n",
      " \n",
      "Media: -0.04138174230185847\n",
      "Mediana: -0.12786388193803655\n",
      "Desviación estándar: 0.9617073355759329\n"
     ]
    }
   ],
   "source": [
    "# Dado un array, encuentra su media, mediana y desviación estándar.\n",
    "\n",
    "arr = np.random.randn(100)\n",
    "\n",
    "print(arr)\n",
    "\n",
    "print(\" \")\n",
    "\n",
    "print(\"Media:\", np.mean(arr))\n",
    "print(\"Mediana:\", np.median(arr))\n",
    "print(\"Desviación estándar:\", np.std(arr))\n",
    "\n",
    "#Con random hacemos que los numeros sean al azar entre el 0 y 1, con randn seleccionamos 100 numeros de nuestra bolsa de numeros al azar"
   ]
  },
  {
   "cell_type": "markdown",
   "id": "e412b735",
   "metadata": {},
   "source": [
    "### 9. Matrices y Operaciones de Álgebra Lineal"
   ]
  },
  {
   "cell_type": "code",
   "execution_count": 58,
   "id": "2913dfa0",
   "metadata": {},
   "outputs": [
    {
     "name": "stdout",
     "output_type": "stream",
     "text": [
      "[[ 30  24  18]\n",
      " [ 84  69  54]\n",
      " [138 114  90]]\n"
     ]
    }
   ],
   "source": [
    "# Crea dos matrices de 3x3 y calcula el producto\n",
    "\n",
    "arr1 = np.array([[1, 2, 3], \n",
    "                 [4, 5, 6], \n",
    "                 [7, 8, 9]])\n",
    "\n",
    "arr2 = np.array([[9, 8, 7], \n",
    "                 [6, 5, 4], \n",
    "                 [3, 2, 1]])\n",
    "\n",
    "product = np.dot(arr1, arr2)\n",
    "print(product)"
   ]
  },
  {
   "cell_type": "markdown",
   "id": "cff19f45",
   "metadata": {},
   "source": [
    "### 10. Creación de Arrays a partir de Funciones"
   ]
  },
  {
   "cell_type": "code",
   "execution_count": 59,
   "id": "3ee7e62a",
   "metadata": {},
   "outputs": [
    {
     "name": "stdout",
     "output_type": "stream",
     "text": [
      "[[ 0  0  0  0  0  0  0  0  0  0]\n",
      " [ 0  1  2  3  4  5  6  7  8  9]\n",
      " [ 0  2  4  6  8 10 12 14 16 18]\n",
      " [ 0  3  6  9 12 15 18 21 24 27]\n",
      " [ 0  4  8 12 16 20 24 28 32 36]\n",
      " [ 0  5 10 15 20 25 30 35 40 45]\n",
      " [ 0  6 12 18 24 30 36 42 48 54]\n",
      " [ 0  7 14 21 28 35 42 49 56 63]\n",
      " [ 0  8 16 24 32 40 48 56 64 72]\n",
      " [ 0  9 18 27 36 45 54 63 72 81]]\n"
     ]
    }
   ],
   "source": [
    "# Crea un array de 10x10 donde cada elemento es el resultado de ixj, siendo i el indice de la fila y j el indice de la columna\n",
    "\n",
    "result = np.fromfunction(lambda i, j: i * j, (10, 10), dtype=int)\n",
    "print(result)\n",
    "\n",
    "# fromfunction te permite crear un array (o matriz) basado en una función que tú definas. Esta función se aplica a cada posición o coordenada en el array resultante.\n",
    "\n",
    "# Con el (10x10) definimos que queremos un array de diez filas y diez columnas.\n",
    "\n",
    "# Con dtype=int definimos que queremos que los elementos que esten adentro de nuestro array sean numeros enteros"
   ]
  },
  {
   "cell_type": "code",
   "execution_count": null,
   "id": "cc48f8e6",
   "metadata": {},
   "outputs": [],
   "source": []
  }
 ],
 "metadata": {
  "kernelspec": {
   "display_name": "Python 3 (ipykernel)",
   "language": "python",
   "name": "python3"
  },
  "language_info": {
   "codemirror_mode": {
    "name": "ipython",
    "version": 3
   },
   "file_extension": ".py",
   "mimetype": "text/x-python",
   "name": "python",
   "nbconvert_exporter": "python",
   "pygments_lexer": "ipython3",
   "version": "3.11.3"
  }
 },
 "nbformat": 4,
 "nbformat_minor": 5
}
